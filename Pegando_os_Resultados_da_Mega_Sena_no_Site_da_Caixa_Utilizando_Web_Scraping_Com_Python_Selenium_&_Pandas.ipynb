{
 "cells": [
  {
   "cell_type": "code",
   "execution_count": null,
   "id": "42cb14f0",
   "metadata": {},
   "outputs": [],
   "source": [
    "# importa as bibliotecas\n",
    "from selenium import webdriver\n",
    "from selenium.webdriver.common.by import By\n",
    "from selenium.webdriver.common.keys import Keys\n",
    "from selenium.webdriver.support.ui import WebDriverWait\n",
    "from selenium.webdriver.support import expected_conditions as EC\n",
    "import time\n",
    "import pandas as pd\n",
    "import plotly"
   ]
  },
  {
   "cell_type": "code",
   "execution_count": null,
   "id": "4450c597",
   "metadata": {
    "scrolled": true
   },
   "outputs": [],
   "source": [
    "# mostra a data e o horário inicial do código\n",
    "inicio_codigo = time.strftime('\"%A, %d %B %Y, %H:%M:%S', time.localtime())\n",
    "\n",
    "tempo_inicial = int(time.time())\n",
    "\n",
    "print(inicio_codigo)"
   ]
  },
  {
   "cell_type": "code",
   "execution_count": null,
   "id": "28949de0",
   "metadata": {},
   "outputs": [],
   "source": [
    "# abre o navegador\n",
    "nav = webdriver.Chrome()\n",
    "\n",
    "r\"\"\"Caso não funcione: \n",
    "Baixe a nova versão do chromedriver no site:\n",
    "https://chromedriver.chromium.org/downloads\n",
    "Coloque o arquivo na pasta onde está instalado o anaconda. \n",
    "Por exemplo:\n",
    "C:\\Users\\cesar\\anaconda3\n",
    "Rode o código de novo.\n",
    "\"\"\""
   ]
  },
  {
   "cell_type": "code",
   "execution_count": null,
   "id": "cb42e7af",
   "metadata": {},
   "outputs": [],
   "source": [
    "# abre o site e espera ele carregar\n",
    "nav.implicitly_wait(10)\n",
    "nav.get('http://loterias.caixa.gov.br/wps/portal/loterias/landing/megasena')"
   ]
  },
  {
   "cell_type": "code",
   "execution_count": null,
   "id": "7ba0e148",
   "metadata": {
    "scrolled": true
   },
   "outputs": [],
   "source": [
    "# pega o número e a data do último concurso\n",
    "def funcao_pegar_concurso_data():\n",
    "    global concurso_data\n",
    "    concurso_data = nav.find_element_by_xpath('//*[@id=\"conteudoresultado\"]/div[1]/div/h2/span').text\n",
    "    return concurso_data\n",
    "\n",
    "funcao_pegar_concurso_data()"
   ]
  },
  {
   "cell_type": "code",
   "execution_count": null,
   "id": "0257aeaa",
   "metadata": {
    "scrolled": true
   },
   "outputs": [],
   "source": [
    "# faz a limpeza dos dados extraindo somente o número do último concurso\n",
    "def funcao_pegar_concurso():\n",
    "    global concurso\n",
    "    concurso = int(concurso_data[concurso_data.find(' ')+1:concurso_data.rfind(' ')])\n",
    "    return concurso\n",
    "\n",
    "funcao_pegar_concurso()"
   ]
  },
  {
   "cell_type": "code",
   "execution_count": null,
   "id": "a0bafcf4",
   "metadata": {},
   "outputs": [],
   "source": [
    "# faz a limpeza dos dados extraindo somente a data do último concurso\n",
    "def funcao_pegar_data():\n",
    "    global data\n",
    "    data = concurso_data[concurso_data.find('(')+1:concurso_data.rfind(')')]\n",
    "    return data\n",
    "\n",
    "funcao_pegar_data()"
   ]
  },
  {
   "cell_type": "code",
   "execution_count": null,
   "id": "fa210bae",
   "metadata": {},
   "outputs": [],
   "source": [
    "# pega quais foram os números sorteados no último concurso\n",
    "def funcao_pegar_numeros_sorteio():\n",
    "    global numeros_sorteio\n",
    "    numeros_sorteio = nav.find_element_by_xpath('//*[@id=\"ulDezenas\"]').text\n",
    "    return numeros_sorteio\n",
    "\n",
    "funcao_pegar_numeros_sorteio()"
   ]
  },
  {
   "cell_type": "code",
   "execution_count": null,
   "id": "962c99cf",
   "metadata": {},
   "outputs": [],
   "source": [
    "# pega a quantidade de ganhadores e o valor do prêmio\n",
    "def funcao_pegar_ganhador_premio():\n",
    "    global ganhador_premio\n",
    "    ganhador_premio = \"\"\n",
    "    for item in range(1, 4):\n",
    "        if ganhador_premio == \"\":\n",
    "            ganhador_premio = nav.find_element_by_xpath(f'//*[@id=\"conteudoresultado\"]/div[3]/div/p[1]/span[{item}]').text\n",
    "        else:\n",
    "            pass\n",
    "    return ganhador_premio\n",
    "\n",
    "funcao_pegar_ganhador_premio()"
   ]
  },
  {
   "cell_type": "code",
   "execution_count": null,
   "id": "125d4e72",
   "metadata": {
    "scrolled": true
   },
   "outputs": [],
   "source": [
    "# faz a limpeza dos dados extraindo somente a quantidade de ganhadores\n",
    "def funcao_pegar_quantidade_ganhadores():\n",
    "    global quantidade_ganhadores\n",
    "    if len(ganhador_premio) > 20:\n",
    "        quantidade_ganhadores = int(ganhador_premio[:ganhador_premio.find(' ')])\n",
    "    else:\n",
    "        quantidade_ganhadores = 0\n",
    "    return quantidade_ganhadores\n",
    "\n",
    "funcao_pegar_quantidade_ganhadores()"
   ]
  },
  {
   "cell_type": "code",
   "execution_count": null,
   "id": "c02b15c3",
   "metadata": {
    "scrolled": true
   },
   "outputs": [],
   "source": [
    "# faz a limpeza dos dados extraindo somente o valor do prêmio\n",
    "def funcao_pegar_premio():\n",
    "    global premio\n",
    "    if len(ganhador_premio) > 20:\n",
    "        premio = ganhador_premio[ganhador_premio.rfind(' ')+1:]\n",
    "    else:\n",
    "        premio = '0'\n",
    "    return premio\n",
    "\n",
    "funcao_pegar_premio()"
   ]
  },
  {
   "cell_type": "code",
   "execution_count": null,
   "id": "b4a37b7f",
   "metadata": {
    "scrolled": true
   },
   "outputs": [],
   "source": [
    "# cria o DataFrame\n",
    "df = pd.DataFrame([],\n",
    "                  index=range(1, concurso+1),\n",
    "                  columns = ['concurso', 'data', 'numeros_sorteio', 'quantidade_ganhadores', 'premio'])\n",
    "\n",
    "display(df)"
   ]
  },
  {
   "cell_type": "code",
   "execution_count": null,
   "id": "99e21db5",
   "metadata": {},
   "outputs": [],
   "source": [
    "# insere os dados no DataFrame\n",
    "def funcao_inserir_dados_no_dataframe():\n",
    "    df.loc[concurso]=[concurso, data, numeros_sorteio, quantidade_ganhadores, premio]\n",
    "\n",
    "funcao_inserir_dados_no_dataframe()\n",
    "display(df)"
   ]
  },
  {
   "cell_type": "code",
   "execution_count": null,
   "id": "7b0734dd",
   "metadata": {
    "scrolled": false
   },
   "outputs": [],
   "source": [
    "# cria variavel para contagem regressiva\n",
    "proximo_concurso = concurso\n",
    "print(proximo_concurso)"
   ]
  },
  {
   "cell_type": "code",
   "execution_count": null,
   "id": "c6442927",
   "metadata": {
    "scrolled": true
   },
   "outputs": [],
   "source": [
    "# faz o looping até pegar todos os dados\n",
    "while proximo_concurso > 1:\n",
    "    proximo_concurso -= 1\n",
    "    texto_proximo_concurso = str(proximo_concurso)\n",
    "    \n",
    "    try:\n",
    "        nav.find_element_by_xpath('//*[@id=\"buscaConcurso\"]').clear()\n",
    "        nav.find_element_by_xpath('//*[@id=\"buscaConcurso\"]').send_keys(proximo_concurso)\n",
    "        nav.find_element_by_xpath('//*[@id=\"buscaConcurso\"]').send_keys(Keys.ENTER)\n",
    "        \n",
    "        esperar = WebDriverWait(nav, 10).until(\n",
    "            EC.text_to_be_present_in_element((By.XPATH, '//*[@id=\"conteudoresultado\"]/div[1]/div/h2/span'), texto_proximo_concurso)\n",
    "        )\n",
    "        \n",
    "    except:\n",
    "        nav.refresh()\n",
    "        \n",
    "        nav.find_element_by_xpath('//*[@id=\"buscaConcurso\"]').clear()\n",
    "        nav.find_element_by_xpath('//*[@id=\"buscaConcurso\"]').send_keys(proximo_concurso)\n",
    "        nav.find_element_by_xpath('//*[@id=\"buscaConcurso\"]').send_keys(Keys.ENTER)\n",
    "        \n",
    "        esperar = WebDriverWait(nav, 10).until(\n",
    "            EC.text_to_be_present_in_element((By.XPATH, '//*[@id=\"conteudoresultado\"]/div[1]/div/h2/span'), texto_proximo_concurso)\n",
    "        )\n",
    "    \n",
    "    funcao_pegar_concurso_data()\n",
    "    \n",
    "    funcao_pegar_concurso()\n",
    "    \n",
    "    funcao_pegar_data()\n",
    "    \n",
    "    if concurso == proximo_concurso:\n",
    "\n",
    "        funcao_pegar_numeros_sorteio()\n",
    "\n",
    "        funcao_pegar_ganhador_premio()\n",
    "        \n",
    "        funcao_pegar_quantidade_ganhadores()\n",
    "        \n",
    "        funcao_pegar_premio()\n",
    "        \n",
    "        funcao_inserir_dados_no_dataframe()\n",
    "\n",
    "    else:\n",
    "        proximo_concurso += 1\n",
    "\n",
    "print(\"Loop executado com sucesso!\")"
   ]
  },
  {
   "cell_type": "code",
   "execution_count": null,
   "id": "cae6e11d",
   "metadata": {
    "scrolled": true
   },
   "outputs": [],
   "source": [
    "# mostra o resultado final do looping com todos os resultados\n",
    "display(df)"
   ]
  },
  {
   "cell_type": "code",
   "execution_count": null,
   "id": "49233a2e",
   "metadata": {
    "scrolled": true
   },
   "outputs": [],
   "source": [
    "# mostra algumas linhas aleatorias para verificar o resultado\n",
    "df.sample(10)"
   ]
  },
  {
   "cell_type": "code",
   "execution_count": null,
   "id": "0b704ce9",
   "metadata": {
    "scrolled": true
   },
   "outputs": [],
   "source": [
    "# separa os números sorteados\n",
    "df = df.assign(n1 = df[\"numeros_sorteio\"].str[0:2],\n",
    "               n2 = df[\"numeros_sorteio\"].str[2:4],\n",
    "               n3 = df[\"numeros_sorteio\"].str[4:6],\n",
    "               n4 = df[\"numeros_sorteio\"].str[6:8],\n",
    "               n5 = df[\"numeros_sorteio\"].str[8:10],\n",
    "               n6 = df[\"numeros_sorteio\"].str[10:12]\n",
    "              )\n",
    "display(df)"
   ]
  },
  {
   "cell_type": "code",
   "execution_count": null,
   "id": "47dc9814",
   "metadata": {},
   "outputs": [],
   "source": [
    "# verifica as informações do DataFrame\n",
    "df.info()"
   ]
  },
  {
   "cell_type": "code",
   "execution_count": null,
   "id": "4ad3eb20",
   "metadata": {},
   "outputs": [],
   "source": [
    "# modifica o tipo dos dados no DataFrame\n",
    "df[[\"n1\", \"n2\", \"n3\", \"n4\", \"n5\", \"n6\"]] = df[[\"n1\", \"n2\", \"n3\", \"n4\", \"n5\", \"n6\"]].astype('float').astype('Int8')\n",
    "df.dtypes"
   ]
  },
  {
   "cell_type": "code",
   "execution_count": null,
   "id": "c58ccb7f",
   "metadata": {},
   "outputs": [],
   "source": [
    "# cria um DataFrame para cada coluna dos números sorteados\n",
    "df1 = pd.DataFrame(df['n1'])\n",
    "df2 = pd.DataFrame(df['n2'])\n",
    "df3 = pd.DataFrame(df['n3'])\n",
    "df4 = pd.DataFrame(df['n4'])\n",
    "df5 = pd.DataFrame(df['n5'])\n",
    "df6 = pd.DataFrame(df['n6'])"
   ]
  },
  {
   "cell_type": "code",
   "execution_count": null,
   "id": "5e86c0d4",
   "metadata": {},
   "outputs": [],
   "source": [
    "# renomeia as colunas dos números sorteados\n",
    "df1 = df1.rename(columns={'n1': 'N'})\n",
    "df2 = df2.rename(columns={'n2': 'N'})\n",
    "df3 = df3.rename(columns={'n3': 'N'})\n",
    "df4 = df4.rename(columns={'n4': 'N'})\n",
    "df5 = df5.rename(columns={'n5': 'N'})\n",
    "df6 = df6.rename(columns={'n6': 'N'})"
   ]
  },
  {
   "cell_type": "code",
   "execution_count": null,
   "id": "6145197b",
   "metadata": {
    "scrolled": false
   },
   "outputs": [],
   "source": [
    "# junta todos os números sorteados em um único DataFrame\n",
    "freq_df = pd.concat([df1, df2, df3, df4, df5, df6])\n",
    "print(freq_df)"
   ]
  },
  {
   "cell_type": "code",
   "execution_count": null,
   "id": "4b59eefc",
   "metadata": {
    "scrolled": false
   },
   "outputs": [],
   "source": [
    "# cria o gráfico de quantas vezes cada número já foi sorteado\n",
    "freq_df.groupby(['N']).size().plot(kind = 'barh', figsize = (15, 15)).xaxis.grid(True)"
   ]
  },
  {
   "cell_type": "code",
   "execution_count": null,
   "id": "b8cc94c6",
   "metadata": {},
   "outputs": [],
   "source": [
    "# salva o DataFrame em um arquivo de excel\n",
    "df.to_excel(\"Todos_Os_Resultados_Da_Mega_Sena.xlsx\", index=False)"
   ]
  },
  {
   "cell_type": "code",
   "execution_count": null,
   "id": "259767d4",
   "metadata": {},
   "outputs": [],
   "source": [
    "# fecha o navegador\n",
    "nav.quit()"
   ]
  },
  {
   "cell_type": "code",
   "execution_count": null,
   "id": "6392a8be",
   "metadata": {},
   "outputs": [],
   "source": [
    "# mostra a data e o horário final do código e quanto tempo ele demorou para rodar\n",
    "fim_codigo = time.strftime('\"%A, %d %B %Y, %H:%M:%S', time.localtime())\n",
    "\n",
    "tempo_final = int(time.time())\n",
    "diferenca_de_tempo = int(tempo_final - tempo_inicial)\n",
    "tempo_total_de_execucao = time.strftime('%H:%M:%S', time.gmtime(diferenca_de_tempo))\n",
    "\n",
    "print(inicio_codigo)\n",
    "print(fim_codigo)\n",
    "print(f'O código demorou no total: {tempo_total_de_execucao}')"
   ]
  },
  {
   "cell_type": "code",
   "execution_count": null,
   "id": "90bd48af",
   "metadata": {},
   "outputs": [],
   "source": []
  }
 ],
 "metadata": {
  "kernelspec": {
   "display_name": "Python 3",
   "language": "python",
   "name": "python3"
  },
  "language_info": {
   "codemirror_mode": {
    "name": "ipython",
    "version": 3
   },
   "file_extension": ".py",
   "mimetype": "text/x-python",
   "name": "python",
   "nbconvert_exporter": "python",
   "pygments_lexer": "ipython3",
   "version": "3.8.10"
  }
 },
 "nbformat": 4,
 "nbformat_minor": 5
}
